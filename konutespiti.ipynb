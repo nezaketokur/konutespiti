{
  "nbformat": 4,
  "nbformat_minor": 0,
  "metadata": {
    "colab": {
      "provenance": [],
      "authorship_tag": "ABX9TyMDlLDzqgguFBAuwh0Q+VfX",
      "include_colab_link": true
    },
    "kernelspec": {
      "name": "python3",
      "display_name": "Python 3"
    },
    "language_info": {
      "name": "python"
    }
  },
  "cells": [
    {
      "cell_type": "markdown",
      "metadata": {
        "id": "view-in-github",
        "colab_type": "text"
      },
      "source": [
        "<a href=\"https://colab.research.google.com/github/nezaketokur/konutespiti/blob/main/konutespiti.ipynb\" target=\"_parent\"><img src=\"https://colab.research.google.com/assets/colab-badge.svg\" alt=\"Open In Colab\"/></a>"
      ]
    },
    {
      "cell_type": "code",
      "execution_count": 3,
      "metadata": {
        "colab": {
          "base_uri": "https://localhost:8080/"
        },
        "id": "Xr_z_5W8jUrr",
        "outputId": "68e93e8b-5e66-47a1-b9f7-c7b95e409efb"
      },
      "outputs": [
        {
          "output_type": "stream",
          "name": "stdout",
          "text": [
            "Bulunan konu: Spor\n"
          ]
        }
      ],
      "source": [
        "# konu_tespiti.py\n",
        "\n",
        "def konu_tespit(text):\n",
        "    # Her konu başlığına özgü genişletilmiş anahtar kelimeler\n",
        "    konular = {\n",
        "        'Siyaset': {'seçim', 'hükümet', 'politikacı', 'meclis', 'başkan', 'anayasa', 'yasa', 'oy'},\n",
        "        'Teknoloji': {'bilgisayar', 'yazılım', 'internet', 'yapay zeka', 'robot', 'donanım', 'teknoloji', 'kod'},\n",
        "        'Spor': {'maç', 'takım', 'skor', 'turnuva', 'oyuncu', 'şampiyon', 'gol', 'lig', 'antrenman'},\n",
        "        'Sağlık': {'doktor', 'hastalık', 'tedavi', 'ilaç', 'sağlık', 'vücut', 'tedavi', 'sağlık çalışanı'},\n",
        "        'Eğlence': {'film', 'müzik', 'tiyatro', 'ünlü', 'konser', 'festival', 'dizi', 'oyuncu', 'şov'}\n",
        "    }\n",
        "\n",
        "    # Her konu başlığı için puanlama yap\n",
        "    puanlar = {konu: 0 for konu in konular.keys()}\n",
        "\n",
        "    # Metindeki kelimeleri konu başlıkları ile karşılaştır\n",
        "    for kelime in text.lower().split():\n",
        "        for konu, anahtar_kelimeler in konular.items():\n",
        "            if kelime in anahtar_kelimeler:\n",
        "                puanlar[konu] += 1  # Her geçen kelime için ilgili konuya +1 puan\n",
        "\n",
        "    # En yüksek puanı alan konuyu belirle\n",
        "    bulunan_konu = max(puanlar, key=puanlar.get)\n",
        "    return bulunan_konu if puanlar[bulunan_konu] > 0 else \"Diğer konular\"\n",
        "\n",
        "# Örnek kullanım\n",
        "if __name__ == \"__main__\":\n",
        "    text = \"Futbol turnuvasında takımın şampiyon olması büyük bir başarı olarak görülüyor.\"\n",
        "    print(\"Bulunan konu:\", konu_tespit(text))\n"
      ]
    }
  ]
}